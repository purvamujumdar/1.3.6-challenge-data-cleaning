{
 "cells": [
  {
   "cell_type": "code",
   "execution_count": 16,
   "metadata": {},
   "outputs": [],
   "source": [
    "from decimal import *\n",
    "import numpy as np\n",
    "import pandas as pd\n",
    "from scipy.stats import mstats"
   ]
  },
  {
   "cell_type": "code",
   "execution_count": 9,
   "metadata": {},
   "outputs": [],
   "source": [
    "d1 = pd.read_csv('/Users/purva/Desktop/Data Science Boot Camp/WELLCOME/WELLCOME_APCspend2013_forThinkful.csv', encoding='latin1')"
   ]
  },
  {
   "cell_type": "code",
   "execution_count": 10,
   "metadata": {},
   "outputs": [],
   "source": [
    " ## mstats.winsorize(df['COST (£) charged to Wellcome (inc VAT when charged)'], limits=0.978)\n"
   ]
  },
  {
   "cell_type": "code",
   "execution_count": 11,
   "metadata": {},
   "outputs": [],
   "source": [
    "## Renaming column\n",
    "d1.rename(columns={'COST (£) charged to Wellcome (inc VAT when charged)' : 'Cost in £'}, inplace=True)\n",
    "\n",
    "## Dropping all rows with £999999.00 as cost\n",
    "\n",
    "df1 = d1.drop(d1.loc[d1['Cost in £'] != '£999999.00'].index)\n",
    "d1 = pd.concat([d1, df1, df1]).drop_duplicates(keep=False)\n"
   ]
  },
  {
   "cell_type": "code",
   "execution_count": 12,
   "metadata": {},
   "outputs": [],
   "source": [
    "## Replacing $ with £\n",
    "d1['Cost in £'] = d1['Cost in £'].str.replace('$' , '£')\n",
    "\n",
    "## Removing £\n",
    "d1['Cost in £'] = d1['Cost in £'].str.replace('£', '')"
   ]
  },
  {
   "cell_type": "code",
   "execution_count": 17,
   "metadata": {},
   "outputs": [
    {
     "name": "stdout",
     "output_type": "stream",
     "text": [
      "Mean is 2015.0380384615385\n",
      "Median is 1852.505\n",
      "Mode is 0    2040.00\n",
      "dtype: object\n"
     ]
    }
   ],
   "source": [
    "print(\"Mean is\" ,d1['Cost in £'].apply(Decimal).mean())\n",
    "print(\"Median is\" ,d1['Cost in £'].apply(Decimal).median())\n",
    "print(\"Mode is\" ,d1['Cost in £'].apply(Decimal).mode())"
   ]
  },
  {
   "cell_type": "code",
   "execution_count": 15,
   "metadata": {},
   "outputs": [
    {
     "name": "stdout",
     "output_type": "stream",
     "text": [
      "PLoS One                                           90\n",
      "PLoS ONE                                           59\n",
      "Journal of Biological Chemistry                    47\n",
      "Nucleic Acids Research                             21\n",
      "Proceedings of the National Academy of Sciences    19\n",
      "Name: Journal title, dtype: int64\n"
     ]
    }
   ],
   "source": [
    "journal_count = d1['Journal title'].value_counts().head(5)\n",
    "print(journal_count)"
   ]
  },
  {
   "cell_type": "code",
   "execution_count": null,
   "metadata": {},
   "outputs": [],
   "source": []
  }
 ],
 "metadata": {
  "kernelspec": {
   "display_name": "Python 3",
   "language": "python",
   "name": "python3"
  },
  "language_info": {
   "codemirror_mode": {
    "name": "ipython",
    "version": 3
   },
   "file_extension": ".py",
   "mimetype": "text/x-python",
   "name": "python",
   "nbconvert_exporter": "python",
   "pygments_lexer": "ipython3",
   "version": "3.7.0"
  }
 },
 "nbformat": 4,
 "nbformat_minor": 2
}
